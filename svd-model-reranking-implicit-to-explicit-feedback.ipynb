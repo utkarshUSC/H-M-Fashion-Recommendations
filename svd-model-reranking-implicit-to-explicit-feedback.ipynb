{
 "cells": [
  {
   "cell_type": "markdown",
   "id": "a189e072",
   "metadata": {
    "_cell_guid": "b1076dfc-b9ad-4769-8c92-a6c4dae69d19",
    "_uuid": "8f2839f25d086af736a60e9eeb907d3b93b6e0e5",
    "papermill": {
     "duration": 0.034443,
     "end_time": "2022-03-25T04:03:42.067590",
     "exception": false,
     "start_time": "2022-03-25T04:03:42.033147",
     "status": "completed"
    },
    "tags": []
   },
   "source": [
    "# Singular Vector Decomposition 🔹\n",
    "\n",
    "Singular Vector Decomposition is a very popular collaborative filtering technique for RecSys problems. It has been used a lot in the past when there was a boom in RecSys (Netflix Prize). It's still a pretty damn good model. We'll be exploring how to use this on our competition here.\n",
    "\n",
    "#### If you liked this notebook, please leave an upvote!"
   ]
  },
  {
   "cell_type": "markdown",
   "id": "afeb8903",
   "metadata": {
    "papermill": {
     "duration": 0.031265,
     "end_time": "2022-03-25T04:03:42.132691",
     "exception": false,
     "start_time": "2022-03-25T04:03:42.101426",
     "status": "completed"
    },
    "tags": []
   },
   "source": [
    "# Problems 🔹\n",
    "\n",
    "1. One of the problem of SVD for this task has been that it has implicit data (only positive outcomes) rather than explicit feedback (variation of at least two outcomes - yes/no, 1/0, 1-5 etc). The major task at hand is to convert the implicit feedback to explicit feedback.\n",
    "\n",
    "2. The other bottleneck would have been the size of the user-item matrix which would have been too huge to fit in memory if we use the scipy svd. I'll use my recsys library where I had implemented the cython backed iterative version of svd or [FunkSVD](https://sifter.org/simon/journal/20061211.html) as it is famously called."
   ]
  },
  {
   "cell_type": "markdown",
   "id": "56d22292",
   "metadata": {
    "papermill": {
     "duration": 0.032792,
     "end_time": "2022-03-25T04:03:42.196490",
     "exception": false,
     "start_time": "2022-03-25T04:03:42.163698",
     "status": "completed"
    },
    "tags": []
   },
   "source": [
    "**Negative Sampling:** I experimented with different negative sampling policies but could not achieve any clear improvement over the existing methods. Hence I'll not include negative sampling mechanism here. Feel free to experiment."
   ]
  },
  {
   "attachments": {},
   "cell_type": "markdown",
   "id": "96c84ab3",
   "metadata": {
    "papermill": {
     "duration": 0.032854,
     "end_time": "2022-03-25T04:03:42.262833",
     "exception": false,
     "start_time": "2022-03-25T04:03:42.229979",
     "status": "completed"
    },
    "tags": []
   },
   "source": [
    "#### reco (https://github.com/mayukh18/reco) \n",
    "using RecSys library **reco**. "
   ]
  },
  {
   "cell_type": "code",
   "execution_count": 1,
   "id": "1a1c2cb5",
   "metadata": {
    "execution": {
     "iopub.execute_input": "2022-03-25T04:03:42.335851Z",
     "iopub.status.busy": "2022-03-25T04:03:42.334888Z",
     "iopub.status.idle": "2022-03-25T04:04:23.024164Z",
     "shell.execute_reply": "2022-03-25T04:04:23.023063Z",
     "shell.execute_reply.started": "2022-03-25T01:28:05.754578Z"
    },
    "papermill": {
     "duration": 40.729559,
     "end_time": "2022-03-25T04:04:23.024360",
     "exception": false,
     "start_time": "2022-03-25T04:03:42.294801",
     "status": "completed"
    },
    "tags": []
   },
   "outputs": [
    {
     "name": "stdout",
     "output_type": "stream",
     "text": [
      "Collecting git+https://github.com/mayukh18/reco\r\n",
      "  Cloning https://github.com/mayukh18/reco to /tmp/pip-req-build-xj9pxf81\r\n",
      "  Running command git clone --filter=blob:none -q https://github.com/mayukh18/reco /tmp/pip-req-build-xj9pxf81\r\n",
      "  Resolved https://github.com/mayukh18/reco to commit 7f0bfc40edc6c21afef4314ee30605766281990b\r\n",
      "  Preparing metadata (setup.py) ... \u001b[?25l-\b \b\\\b \bdone\r\n",
      "\u001b[?25hRequirement already satisfied: numpy in /opt/conda/lib/python3.7/site-packages (from reco==0.2.1) (1.20.3)\r\n",
      "Requirement already satisfied: pandas in /opt/conda/lib/python3.7/site-packages (from reco==0.2.1) (1.3.5)\r\n",
      "Requirement already satisfied: python-dateutil>=2.7.3 in /opt/conda/lib/python3.7/site-packages (from pandas->reco==0.2.1) (2.8.2)\r\n",
      "Requirement already satisfied: pytz>=2017.3 in /opt/conda/lib/python3.7/site-packages (from pandas->reco==0.2.1) (2021.3)\r\n",
      "Requirement already satisfied: six>=1.5 in /opt/conda/lib/python3.7/site-packages (from python-dateutil>=2.7.3->pandas->reco==0.2.1) (1.16.0)\r\n",
      "Building wheels for collected packages: reco\r\n",
      "  Building wheel for reco (setup.py) ... \u001b[?25l-\b \b\\\b \b|\b \b/\b \b-\b \b\\\b \b|\b \b/\b \b-\b \b\\\b \b|\b \b/\b \bdone\r\n",
      "\u001b[?25h  Created wheel for reco: filename=reco-0.2.1-cp37-cp37m-linux_x86_64.whl size=9868227 sha256=df02d38abe2146990847a497b40973da1453a47390a97adf46084fbe0afc0239\r\n",
      "  Stored in directory: /tmp/pip-ephem-wheel-cache-h0skr1il/wheels/6b/77/06/3fabb6de467036024e54b62021cc5d1dc8cf3a300b17c43089\r\n",
      "Successfully built reco\r\n",
      "Installing collected packages: reco\r\n",
      "Successfully installed reco-0.2.1\r\n",
      "\u001b[33mWARNING: Running pip as the 'root' user can result in broken permissions and conflicting behaviour with the system package manager. It is recommended to use a virtual environment instead: https://pip.pypa.io/warnings/venv\u001b[0m\r\n"
     ]
    }
   ],
   "source": [
    "# It is available on pypi but I haven't updated the release there. So install from github\n",
    "!pip install git+https://github.com/mayukh18/reco"
   ]
  },
  {
   "cell_type": "code",
   "execution_count": 2,
   "id": "99ee7ba8",
   "metadata": {
    "execution": {
     "iopub.execute_input": "2022-03-25T04:04:23.113246Z",
     "iopub.status.busy": "2022-03-25T04:04:23.112198Z",
     "iopub.status.idle": "2022-03-25T04:04:23.117635Z",
     "shell.execute_reply": "2022-03-25T04:04:23.118260Z",
     "shell.execute_reply.started": "2022-03-25T01:28:20.743185Z"
    },
    "papermill": {
     "duration": 0.053106,
     "end_time": "2022-03-25T04:04:23.118432",
     "exception": false,
     "start_time": "2022-03-25T04:04:23.065326",
     "status": "completed"
    },
    "tags": []
   },
   "outputs": [],
   "source": [
    "import warnings\n",
    "warnings.filterwarnings(\"ignore\")\n",
    "\n",
    "import numpy as np\n",
    "import pandas as pd\n",
    "import os\n",
    "import glob\n",
    "import reco\n",
    "from tqdm import tqdm\n",
    "import datetime\n",
    "from collections import Counter"
   ]
  },
  {
   "cell_type": "markdown",
   "id": "c2fd3658",
   "metadata": {
    "papermill": {
     "duration": 0.038565,
     "end_time": "2022-03-25T04:04:23.196895",
     "exception": false,
     "start_time": "2022-03-25T04:04:23.158330",
     "status": "completed"
    },
    "tags": []
   },
   "source": [
    "# Forming Train Set 🔹\n",
    "\n",
    "We'll keep 2 weeks as train and the last week as validation."
   ]
  },
  {
   "cell_type": "code",
   "execution_count": 3,
   "id": "14365810",
   "metadata": {
    "execution": {
     "iopub.execute_input": "2022-03-25T04:04:23.278592Z",
     "iopub.status.busy": "2022-03-25T04:04:23.277581Z",
     "iopub.status.idle": "2022-03-25T04:05:44.206889Z",
     "shell.execute_reply": "2022-03-25T04:05:44.207438Z",
     "shell.execute_reply.started": "2022-03-25T01:28:20.749632Z"
    },
    "papermill": {
     "duration": 80.971882,
     "end_time": "2022-03-25T04:05:44.207650",
     "exception": false,
     "start_time": "2022-03-25T04:04:23.235768",
     "status": "completed"
    },
    "tags": []
   },
   "outputs": [
    {
     "data": {
      "text/html": [
       "<div>\n",
       "<style scoped>\n",
       "    .dataframe tbody tr th:only-of-type {\n",
       "        vertical-align: middle;\n",
       "    }\n",
       "\n",
       "    .dataframe tbody tr th {\n",
       "        vertical-align: top;\n",
       "    }\n",
       "\n",
       "    .dataframe thead th {\n",
       "        text-align: right;\n",
       "    }\n",
       "</style>\n",
       "<table border=\"1\" class=\"dataframe\">\n",
       "  <thead>\n",
       "    <tr style=\"text-align: right;\">\n",
       "      <th></th>\n",
       "      <th>t_dat</th>\n",
       "      <th>customer_id</th>\n",
       "      <th>article_id</th>\n",
       "      <th>price</th>\n",
       "      <th>sales_channel_id</th>\n",
       "    </tr>\n",
       "  </thead>\n",
       "  <tbody>\n",
       "    <tr>\n",
       "      <th>0</th>\n",
       "      <td>2018-09-20</td>\n",
       "      <td>000058a12d5b43e67d225668fa1f8d618c13dc232df0ca...</td>\n",
       "      <td>0663713001</td>\n",
       "      <td>0.050831</td>\n",
       "      <td>2</td>\n",
       "    </tr>\n",
       "    <tr>\n",
       "      <th>1</th>\n",
       "      <td>2018-09-20</td>\n",
       "      <td>000058a12d5b43e67d225668fa1f8d618c13dc232df0ca...</td>\n",
       "      <td>0541518023</td>\n",
       "      <td>0.030492</td>\n",
       "      <td>2</td>\n",
       "    </tr>\n",
       "    <tr>\n",
       "      <th>2</th>\n",
       "      <td>2018-09-20</td>\n",
       "      <td>00007d2de826758b65a93dd24ce629ed66842531df6699...</td>\n",
       "      <td>0505221004</td>\n",
       "      <td>0.015237</td>\n",
       "      <td>2</td>\n",
       "    </tr>\n",
       "    <tr>\n",
       "      <th>3</th>\n",
       "      <td>2018-09-20</td>\n",
       "      <td>00007d2de826758b65a93dd24ce629ed66842531df6699...</td>\n",
       "      <td>0685687003</td>\n",
       "      <td>0.016932</td>\n",
       "      <td>2</td>\n",
       "    </tr>\n",
       "    <tr>\n",
       "      <th>4</th>\n",
       "      <td>2018-09-20</td>\n",
       "      <td>00007d2de826758b65a93dd24ce629ed66842531df6699...</td>\n",
       "      <td>0685687004</td>\n",
       "      <td>0.016932</td>\n",
       "      <td>2</td>\n",
       "    </tr>\n",
       "  </tbody>\n",
       "</table>\n",
       "</div>"
      ],
      "text/plain": [
       "       t_dat                                        customer_id  article_id  \\\n",
       "0 2018-09-20  000058a12d5b43e67d225668fa1f8d618c13dc232df0ca...  0663713001   \n",
       "1 2018-09-20  000058a12d5b43e67d225668fa1f8d618c13dc232df0ca...  0541518023   \n",
       "2 2018-09-20  00007d2de826758b65a93dd24ce629ed66842531df6699...  0505221004   \n",
       "3 2018-09-20  00007d2de826758b65a93dd24ce629ed66842531df6699...  0685687003   \n",
       "4 2018-09-20  00007d2de826758b65a93dd24ce629ed66842531df6699...  0685687004   \n",
       "\n",
       "      price  sales_channel_id  \n",
       "0  0.050831                 2  \n",
       "1  0.030492                 2  \n",
       "2  0.015237                 2  \n",
       "3  0.016932                 2  \n",
       "4  0.016932                 2  "
      ]
     },
     "execution_count": 3,
     "metadata": {},
     "output_type": "execute_result"
    }
   ],
   "source": [
    "data = pd.read_csv(\"../input/h-and-m-personalized-fashion-recommendations/transactions_train.csv\", dtype={'article_id':str})\n",
    "data[\"t_dat\"] = pd.to_datetime(data[\"t_dat\"])\n",
    "data.head()"
   ]
  },
  {
   "cell_type": "code",
   "execution_count": 4,
   "id": "8c229429",
   "metadata": {
    "execution": {
     "iopub.execute_input": "2022-03-25T04:05:44.298637Z",
     "iopub.status.busy": "2022-03-25T04:05:44.297867Z",
     "iopub.status.idle": "2022-03-25T04:05:46.482727Z",
     "shell.execute_reply": "2022-03-25T04:05:46.481973Z",
     "shell.execute_reply.started": "2022-03-25T01:29:18.266383Z"
    },
    "papermill": {
     "duration": 2.234454,
     "end_time": "2022-03-25T04:05:46.482906",
     "exception": false,
     "start_time": "2022-03-25T04:05:44.248452",
     "status": "completed"
    },
    "tags": []
   },
   "outputs": [
    {
     "name": "stdout",
     "output_type": "stream",
     "text": [
      "All Transactions Date Range: 2018-09-20 00:00:00 to 2020-09-22 00:00:00\n"
     ]
    }
   ],
   "source": [
    "print(\"All Transactions Date Range: {} to {}\".format(data['t_dat'].min(), data['t_dat'].max()))\n",
    "\n",
    "data[\"t_dat\"] = pd.to_datetime(data[\"t_dat\"])\n",
    "train1 = data.loc[(data[\"t_dat\"] >= datetime.datetime(2020,9,8)) & (data['t_dat'] < datetime.datetime(2020,9,16))]\n",
    "train2 = data.loc[(data[\"t_dat\"] >= datetime.datetime(2020,9,1)) & (data['t_dat'] < datetime.datetime(2020,9,8))]\n",
    "train3 = data.loc[(data[\"t_dat\"] >= datetime.datetime(2020,8,23)) & (data['t_dat'] < datetime.datetime(2020,9,1))]\n",
    "train4 = data.loc[(data[\"t_dat\"] >= datetime.datetime(2020,8,15)) & (data['t_dat'] < datetime.datetime(2020,8,23))]\n",
    "\n",
    "val = data.loc[data[\"t_dat\"] >= datetime.datetime(2020,9,16)]"
   ]
  },
  {
   "cell_type": "code",
   "execution_count": 5,
   "id": "10653b4f",
   "metadata": {
    "execution": {
     "iopub.execute_input": "2022-03-25T04:05:46.573504Z",
     "iopub.status.busy": "2022-03-25T04:05:46.572818Z",
     "iopub.status.idle": "2022-03-25T04:05:54.774260Z",
     "shell.execute_reply": "2022-03-25T04:05:54.773592Z",
     "shell.execute_reply.started": "2022-03-25T01:29:19.873295Z"
    },
    "papermill": {
     "duration": 8.249525,
     "end_time": "2022-03-25T04:05:54.774413",
     "exception": false,
     "start_time": "2022-03-25T04:05:46.524888",
     "status": "completed"
    },
    "tags": []
   },
   "outputs": [],
   "source": [
    "# List of all purchases per user (has repetitions)\n",
    "positive_items_per_user1 = train1.groupby(['customer_id'])['article_id'].apply(list)\n",
    "positive_items_per_user2 = train2.groupby(['customer_id'])['article_id'].apply(list)\n",
    "positive_items_per_user3 = train3.groupby(['customer_id'])['article_id'].apply(list)\n",
    "positive_items_per_user4 = train4.groupby(['customer_id'])['article_id'].apply(list)"
   ]
  },
  {
   "cell_type": "markdown",
   "id": "efa689a1",
   "metadata": {
    "papermill": {
     "duration": 0.042559,
     "end_time": "2022-03-25T04:05:54.860402",
     "exception": false,
     "start_time": "2022-03-25T04:05:54.817843",
     "status": "completed"
    },
    "tags": []
   },
   "source": [
    "# Implicit to Explicit Feedback 🔹\n",
    "\n",
    "There can be multiple ways to convert the implicit data to explicit. But all ways have the same fundamental idea. We'll treat the purchase of an unpopular item to be of high explicit feedback and that of a popular item to be of low explicit feedback. Also, if an user buys a lot of items, that can weigh down the importance of one single item.\n",
    "\n",
    "Some ideas:\n",
    "\n",
    "1. user-item purchase count weighed down by time decaying popularity of the item as introduced in https://www.kaggle.com/mayukh18/time-decaying-popularity-benchmark-0-0216 (We will use this in this notebook)\n",
    "2. user-item purchase count weighed down by the product of total purchase count of the item and total purchase count of the user.\n",
    "\n",
    "Note: No idea is the absolute perfect. As you will combine different heuristic approaches with the SVD you'll realize different conversion techniques are favourable for different heuristics approaches."
   ]
  },
  {
   "cell_type": "code",
   "execution_count": 6,
   "id": "23e5ee8c",
   "metadata": {
    "execution": {
     "iopub.execute_input": "2022-03-25T04:05:54.952395Z",
     "iopub.status.busy": "2022-03-25T04:05:54.951274Z",
     "iopub.status.idle": "2022-03-25T04:06:48.869627Z",
     "shell.execute_reply": "2022-03-25T04:06:48.870151Z",
     "shell.execute_reply.started": "2022-03-25T01:29:33.209386Z"
    },
    "papermill": {
     "duration": 53.969481,
     "end_time": "2022-03-25T04:06:48.870335",
     "exception": false,
     "start_time": "2022-03-25T04:05:54.900854",
     "status": "completed"
    },
    "tags": []
   },
   "outputs": [
    {
     "data": {
      "text/plain": [
       "count    1.044811e+06\n",
       "mean     8.252942e-01\n",
       "std      1.455205e+00\n",
       "min      5.373625e-03\n",
       "25%      6.460413e-02\n",
       "50%      1.771086e-01\n",
       "75%      6.486035e-01\n",
       "max      5.000000e+00\n",
       "Name: feedback, dtype: float64"
      ]
     },
     "execution_count": 6,
     "metadata": {},
     "output_type": "execute_result"
    }
   ],
   "source": [
    "train = pd.concat([train1, train2, train3, train4], axis=0)\n",
    "\n",
    "#time decay popularity of each article\n",
    "train['pop_factor'] = train['t_dat'].apply(lambda x: 1/(datetime.datetime(2020,9,16) - x).days**2)\n",
    "popular_items_group = train.groupby(['article_id'])['pop_factor'].sum()\n",
    "\n",
    "# purchase count of each article\n",
    "items_total_count = train.groupby(['article_id'])['article_id'].count()\n",
    "# purchase count of each user\n",
    "users_total_count = train.groupby(['customer_id'])['customer_id'].count()\n",
    "\n",
    "\n",
    "train['feedback'] = 1\n",
    "train = train.groupby(['customer_id', 'article_id']).sum().reset_index()\n",
    "train['feedback'] = train.apply(lambda row: row['feedback']/popular_items_group[row['article_id']], axis=1)\n",
    "\n",
    "train['feedback'] = train['feedback'].apply(lambda x: 5.0 if x>5.0 else x)\n",
    "train.drop(['price', 'sales_channel_id'], axis=1, inplace=True)\n",
    "\n",
    "# shuffling\n",
    "train = train.sample(frac=1).reset_index(drop=True)\n",
    "train['feedback'].describe()"
   ]
  },
  {
   "cell_type": "markdown",
   "id": "24c93497",
   "metadata": {
    "papermill": {
     "duration": 0.040045,
     "end_time": "2022-03-25T04:06:48.950792",
     "exception": false,
     "start_time": "2022-03-25T04:06:48.910747",
     "status": "completed"
    },
    "tags": []
   },
   "source": [
    "Basic time decaying popularity to combine it with the SVD."
   ]
  },
  {
   "cell_type": "code",
   "execution_count": 7,
   "id": "7467692a",
   "metadata": {
    "execution": {
     "iopub.execute_input": "2022-03-25T04:06:49.044116Z",
     "iopub.status.busy": "2022-03-25T04:06:49.038988Z",
     "iopub.status.idle": "2022-03-25T04:07:00.199297Z",
     "shell.execute_reply": "2022-03-25T04:07:00.198462Z",
     "shell.execute_reply.started": "2022-03-25T01:30:35.442739Z"
    },
    "papermill": {
     "duration": 11.207677,
     "end_time": "2022-03-25T04:07:00.199459",
     "exception": false,
     "start_time": "2022-03-25T04:06:48.991782",
     "status": "completed"
    },
    "tags": []
   },
   "outputs": [
    {
     "data": {
      "text/plain": [
       "count    557958.000000\n",
       "mean          0.200478\n",
       "std           0.207752\n",
       "min           0.066667\n",
       "25%           0.083333\n",
       "50%           0.125000\n",
       "75%           0.200000\n",
       "max           1.000000\n",
       "Name: pop_factor, dtype: float64"
      ]
     },
     "execution_count": 7,
     "metadata": {},
     "output_type": "execute_result"
    }
   ],
   "source": [
    "train_pop = data.loc[(data[\"t_dat\"] >= datetime.datetime(2020,9,1)) & (data['t_dat'] < datetime.datetime(2020,9,16))]\n",
    "train_pop['pop_factor'] = train_pop['t_dat'].apply(lambda x: 1/(datetime.datetime(2020,9,16) - x).days)\n",
    "popular_items_group = train_pop.groupby(['article_id'])['pop_factor'].sum()\n",
    "\n",
    "_, popular_items = zip(*sorted(zip(popular_items_group, popular_items_group.keys()))[::-1])\n",
    "\n",
    "train_pop['pop_factor'].describe()"
   ]
  },
  {
   "cell_type": "markdown",
   "id": "728edb03",
   "metadata": {
    "papermill": {
     "duration": 0.042245,
     "end_time": "2022-03-25T04:07:00.283065",
     "exception": false,
     "start_time": "2022-03-25T04:07:00.240820",
     "status": "completed"
    },
    "tags": []
   },
   "source": [
    "Below part is a cool new addition which gives a small bump. Did not add it to the validation part but it has the same effect there too. It predicts the most frequent next item bought by an user after a particular item."
   ]
  },
  {
   "cell_type": "code",
   "execution_count": 8,
   "id": "32eba059",
   "metadata": {
    "execution": {
     "iopub.execute_input": "2022-03-25T04:07:00.463664Z",
     "iopub.status.busy": "2022-03-25T04:07:00.462882Z",
     "iopub.status.idle": "2022-03-25T04:07:09.898769Z",
     "shell.execute_reply": "2022-03-25T04:07:09.898141Z",
     "shell.execute_reply.started": "2022-03-25T01:30:52.166231Z"
    },
    "papermill": {
     "duration": 9.574838,
     "end_time": "2022-03-25T04:07:09.898917",
     "exception": false,
     "start_time": "2022-03-25T04:07:00.324079",
     "status": "completed"
    },
    "tags": []
   },
   "outputs": [
    {
     "name": "stderr",
     "output_type": "stream",
     "text": [
      "100%|██████████| 254618/254618 [00:02<00:00, 102682.51it/s]\n"
     ]
    }
   ],
   "source": [
    "def get_most_freq_next_item(user_group):\n",
    "    next_items = {}\n",
    "    for user in tqdm(user_group.keys()):\n",
    "        items = user_group[user]\n",
    "        for i,item in enumerate(items[:-1]):\n",
    "            if item not in next_items:\n",
    "                next_items[item] = []\n",
    "            if item != items[i+1]:\n",
    "                next_items[item].append(items[i+1])\n",
    "\n",
    "    pred_next = {}\n",
    "    for item in next_items:\n",
    "        if len(next_items[item]) >= 5:\n",
    "            most_common = Counter(next_items[item]).most_common()\n",
    "            ratio = most_common[0][1]/len(next_items[item])\n",
    "            if ratio >= 0.1:\n",
    "                pred_next[item] = most_common[0][0]\n",
    "            \n",
    "    return pred_next\n",
    "\n",
    "user_group = train.groupby(['customer_id'])['article_id'].apply(list)\n",
    "pred_next = get_most_freq_next_item(user_group)"
   ]
  },
  {
   "cell_type": "markdown",
   "id": "a054d5fe",
   "metadata": {
    "papermill": {
     "duration": 0.051874,
     "end_time": "2022-03-25T04:07:10.004297",
     "exception": false,
     "start_time": "2022-03-25T04:07:09.952423",
     "status": "completed"
    },
    "tags": []
   },
   "source": [
    "# SVD Training 🔹"
   ]
  },
  {
   "cell_type": "code",
   "execution_count": 9,
   "id": "a770059d",
   "metadata": {
    "execution": {
     "iopub.execute_input": "2022-03-25T04:07:10.120899Z",
     "iopub.status.busy": "2022-03-25T04:07:10.119807Z",
     "iopub.status.idle": "2022-03-25T04:07:44.338585Z",
     "shell.execute_reply": "2022-03-25T04:07:44.339489Z",
     "shell.execute_reply.started": "2022-03-25T01:31:01.629656Z"
    },
    "papermill": {
     "duration": 34.278973,
     "end_time": "2022-03-25T04:07:44.339920",
     "exception": false,
     "start_time": "2022-03-25T04:07:10.060947",
     "status": "completed"
    },
    "tags": []
   },
   "outputs": [
    {
     "name": "stdout",
     "output_type": "stream",
     "text": [
      "Epoch 0: Error: 0.6739707229979606\n",
      "Epoch 1: Error: 0.47521176958192185\n",
      "Epoch 2: Error: 0.40657986172888816\n",
      "Epoch 3: Error: 0.36592138199234925\n",
      "Epoch 4: Error: 0.33794449119059233\n",
      "Epoch 5: Error: 0.31682703156247055\n",
      "Epoch 6: Error: 0.29984902840474736\n",
      "Epoch 7: Error: 0.2855742521715772\n",
      "Epoch 8: Error: 0.27321171105644226\n",
      "Epoch 9: Error: 0.2622580359148723\n",
      "Epoch 10: Error: 0.2523628217724591\n",
      "Epoch 11: Error: 0.24330339390304692\n",
      "Epoch 12: Error: 0.23492637503712135\n",
      "Epoch 13: Error: 0.22712942728784902\n",
      "Epoch 14: Error: 0.2198278428683797\n",
      "Epoch 15: Error: 0.21296703746023632\n",
      "Epoch 16: Error: 0.20650436674366615\n",
      "Epoch 17: Error: 0.2004077968284915\n",
      "Epoch 18: Error: 0.19465644787357794\n",
      "Epoch 19: Error: 0.1892257566316674\n",
      "Epoch 20: Error: 0.18409229205394678\n",
      "Epoch 21: Error: 0.17923679825229905\n",
      "Epoch 22: Error: 0.17464186958360928\n",
      "Epoch 23: Error: 0.17029294736049497\n",
      "Epoch 24: Error: 0.16617312796639205\n",
      "Epoch 25: Error: 0.16226931263636635\n",
      "Epoch 26: Error: 0.15856579157998063\n",
      "Epoch 27: Error: 0.15504729825244454\n",
      "Epoch 28: Error: 0.15170229597388055\n",
      "Epoch 29: Error: 0.14851989800011778\n",
      "Epoch 30: Error: 0.14549084780620472\n",
      "Epoch 31: Error: 0.142604491679321\n",
      "Epoch 32: Error: 0.13985141814194152\n",
      "Epoch 33: Error: 0.13722230804204572\n",
      "Epoch 34: Error: 0.13471033636374463\n",
      "Epoch 35: Error: 0.13230861572747782\n",
      "Epoch 36: Error: 0.13001029584424967\n",
      "Epoch 37: Error: 0.1278102122927571\n",
      "Epoch 38: Error: 0.12570256653677492\n",
      "Epoch 39: Error: 0.12368110874318532\n",
      "Epoch 40: Error: 0.12174014202676928\n",
      "Epoch 41: Error: 0.11987482664439818\n",
      "Epoch 42: Error: 0.11808028801532633\n",
      "Epoch 43: Error: 0.11635275112809995\n",
      "Epoch 44: Error: 0.11468824149020383\n",
      "Epoch 45: Error: 0.11308295790688468\n",
      "Epoch 46: Error: 0.111533478581931\n",
      "Epoch 47: Error: 0.11003735816212289\n",
      "Epoch 48: Error: 0.10859110524689873\n",
      "Epoch 49: Error: 0.10719307028777145\n",
      "Epoch 50: Error: 0.10584033745141776\n",
      "Epoch 51: Error: 0.1045304304844576\n",
      "Epoch 52: Error: 0.1032610682096815\n",
      "Epoch 53: Error: 0.10203048384328864\n",
      "Epoch 54: Error: 0.10083617745781209\n",
      "Epoch 55: Error: 0.09967632613393848\n",
      "Epoch 56: Error: 0.0985485688563613\n",
      "Epoch 57: Error: 0.09745163424798378\n",
      "Epoch 58: Error: 0.09638436467939841\n",
      "Epoch 59: Error: 0.09534549750854496\n",
      "Epoch 60: Error: 0.0943334793267487\n",
      "Epoch 61: Error: 0.09334718256742326\n",
      "Epoch 62: Error: 0.09238525877749947\n",
      "Epoch 63: Error: 0.09144703900670989\n",
      "Epoch 64: Error: 0.09053130474273534\n",
      "Epoch 65: Error: 0.08963679464021371\n",
      "Epoch 66: Error: 0.08876282713802547\n",
      "Epoch 67: Error: 0.08790816441398862\n",
      "Epoch 68: Error: 0.08707214607282833\n",
      "Epoch 69: Error: 0.08625435517127165\n",
      "Epoch 70: Error: 0.0854539169554544\n",
      "Epoch 71: Error: 0.08466994883996959\n",
      "Epoch 72: Error: 0.08390201079424697\n",
      "Epoch 73: Error: 0.08314958618445874\n",
      "Epoch 74: Error: 0.08241176312335508\n",
      "Epoch 75: Error: 0.08168835878423314\n",
      "Epoch 76: Error: 0.08097874437446523\n",
      "Epoch 77: Error: 0.08028241960122715\n",
      "Epoch 78: Error: 0.07959906759276707\n",
      "Epoch 79: Error: 0.07892853351068328\n"
     ]
    }
   ],
   "source": [
    "from reco.recommender import FunkSVD\n",
    "from reco.metrics import rmse\n",
    "\n",
    "# k = number of dimensions of the latent embedding. formatizer dict takes in names of the columns\n",
    "# for user, item and values/feedback/ratings respectively.\n",
    "\n",
    "svd = FunkSVD(k=8, learning_rate=0.008, regularizer = .01, iterations = 80, method = 'stochastic', bias=True)\n",
    "svd.fit(X=train, formatizer={'user':'customer_id', 'item':'article_id', 'value':'feedback'},verbose=True)"
   ]
  },
  {
   "cell_type": "markdown",
   "id": "71bd4bfa",
   "metadata": {
    "papermill": {
     "duration": 0.059828,
     "end_time": "2022-03-25T04:07:44.459484",
     "exception": false,
     "start_time": "2022-03-25T04:07:44.399656",
     "status": "completed"
    },
    "tags": []
   },
   "source": [
    "# Validation 🔹\n",
    "\n",
    "This is mostly based on [this notebook](https://www.kaggle.com/mayukh18/time-decaying-popularity-benchmark-0-0216) where I have used same pipeline. Will use SVD for re-ranking. Will read all the data anew and train a new model on our new train set with new date ranges for submission. This will align us with the aforementioned notebook."
   ]
  },
  {
   "cell_type": "code",
   "execution_count": 10,
   "id": "7f93c7e0",
   "metadata": {
    "execution": {
     "iopub.execute_input": "2022-03-25T04:07:44.591620Z",
     "iopub.status.busy": "2022-03-25T04:07:44.590694Z",
     "iopub.status.idle": "2022-03-25T04:07:44.594265Z",
     "shell.execute_reply": "2022-03-25T04:07:44.593571Z",
     "shell.execute_reply.started": "2022-03-25T01:31:34.310707Z"
    },
    "papermill": {
     "duration": 0.073834,
     "end_time": "2022-03-25T04:07:44.594415",
     "exception": false,
     "start_time": "2022-03-25T04:07:44.520581",
     "status": "completed"
    },
    "tags": []
   },
   "outputs": [],
   "source": [
    "def apk(actual, predicted, k=12):\n",
    "    if len(predicted)>k:\n",
    "        predicted = predicted[:k]\n",
    "\n",
    "    score = 0.0\n",
    "    num_hits = 0.0\n",
    "\n",
    "    for i,p in enumerate(predicted):\n",
    "        if p in actual and p not in predicted[:i]:\n",
    "            num_hits += 1.0\n",
    "            score += num_hits / (i+1.0)\n",
    "\n",
    "    if not actual:\n",
    "        return 0.0\n",
    "\n",
    "    return score / min(len(actual), k)\n",
    "\n",
    "def mapk(actual, predicted, k=12):\n",
    "    return np.mean([apk(a,p,k) for a,p in zip(actual, predicted)])"
   ]
  },
  {
   "cell_type": "code",
   "execution_count": 11,
   "id": "0eeb807c",
   "metadata": {
    "execution": {
     "iopub.execute_input": "2022-03-25T04:07:44.740707Z",
     "iopub.status.busy": "2022-03-25T04:07:44.739657Z",
     "iopub.status.idle": "2022-03-25T04:07:46.801286Z",
     "shell.execute_reply": "2022-03-25T04:07:46.800742Z",
     "shell.execute_reply.started": "2022-03-25T01:31:34.325791Z"
    },
    "papermill": {
     "duration": 2.144404,
     "end_time": "2022-03-25T04:07:46.801426",
     "exception": false,
     "start_time": "2022-03-25T04:07:44.657022",
     "status": "completed"
    },
    "tags": []
   },
   "outputs": [
    {
     "name": "stderr",
     "output_type": "stream",
     "text": [
      "68984it [00:00, 145664.60it/s]"
     ]
    },
    {
     "name": "stdout",
     "output_type": "stream",
     "text": [
      "Total users in validation: 68984\n"
     ]
    },
    {
     "name": "stderr",
     "output_type": "stream",
     "text": [
      "\n"
     ]
    }
   ],
   "source": [
    "positive_items_val = val.groupby(['customer_id'])['article_id'].apply(list)\n",
    "val_users = positive_items_val.keys()\n",
    "val_items = []\n",
    "\n",
    "for i,user in tqdm(enumerate(val_users)):\n",
    "    val_items.append(positive_items_val[user])\n",
    "    \n",
    "print(\"Total users in validation:\", len(val_users))"
   ]
  },
  {
   "cell_type": "markdown",
   "id": "828c5cb8",
   "metadata": {
    "papermill": {
     "duration": 0.062887,
     "end_time": "2022-03-25T04:07:46.928441",
     "exception": false,
     "start_time": "2022-03-25T04:07:46.865554",
     "status": "completed"
    },
    "tags": []
   },
   "source": [
    "#### Normal way of prediction without the SVD reranking"
   ]
  },
  {
   "cell_type": "code",
   "execution_count": 12,
   "id": "3e280fee",
   "metadata": {
    "execution": {
     "iopub.execute_input": "2022-03-25T04:07:47.064124Z",
     "iopub.status.busy": "2022-03-25T04:07:47.063284Z",
     "iopub.status.idle": "2022-03-25T04:07:53.115970Z",
     "shell.execute_reply": "2022-03-25T04:07:53.115390Z",
     "shell.execute_reply.started": "2022-03-25T01:31:45.934252Z"
    },
    "papermill": {
     "duration": 6.124265,
     "end_time": "2022-03-25T04:07:53.116122",
     "exception": false,
     "start_time": "2022-03-25T04:07:46.991857",
     "status": "completed"
    },
    "tags": []
   },
   "outputs": [
    {
     "name": "stderr",
     "output_type": "stream",
     "text": [
      "100%|██████████| 68984/68984 [00:05<00:00, 11977.13it/s]\n"
     ]
    },
    {
     "name": "stdout",
     "output_type": "stream",
     "text": [
      "mAP Score on Validation set: 0.024402599558659414\n"
     ]
    }
   ],
   "source": [
    "from collections import Counter\n",
    "outputs = []\n",
    "cnt = 0\n",
    "\n",
    "popular_items = list(popular_items)\n",
    "\n",
    "for user in tqdm(val_users):\n",
    "    user_output = []\n",
    "    if user in positive_items_per_user1.keys():\n",
    "        most_common_items_of_user = {k:v for k, v in Counter(positive_items_per_user1[user]).most_common()}\n",
    "        user_output += list(most_common_items_of_user.keys())[:12]\n",
    "    if user in positive_items_per_user2.keys():\n",
    "        most_common_items_of_user = {k:v for k, v in Counter(positive_items_per_user2[user]).most_common()}\n",
    "        user_output += list(most_common_items_of_user.keys())[:12]\n",
    "    if user in positive_items_per_user3.keys():\n",
    "        most_common_items_of_user = {k:v for k, v in Counter(positive_items_per_user3[user]).most_common()}\n",
    "        user_output += list(most_common_items_of_user.keys())[:12]\n",
    "    if user in positive_items_per_user4.keys():\n",
    "        most_common_items_of_user = {k:v for k, v in Counter(positive_items_per_user4[user]).most_common()}\n",
    "        user_output += list(most_common_items_of_user.keys())[:12]\n",
    "    \n",
    "    user_output += [pred_next[item] for item in user_output if item in pred_next and pred_next[item] not in user_output]      \n",
    "    \n",
    "    user_output += list(popular_items[:12 - len(user_output)])\n",
    "    outputs.append(user_output)\n",
    "    \n",
    "print(\"mAP Score on Validation set:\", mapk(val_items, outputs))"
   ]
  },
  {
   "cell_type": "markdown",
   "id": "09e92d07",
   "metadata": {
    "papermill": {
     "duration": 0.086621,
     "end_time": "2022-03-25T04:07:53.292146",
     "exception": false,
     "start_time": "2022-03-25T04:07:53.205525",
     "status": "completed"
    },
    "tags": []
   },
   "source": [
    "#### Now, prediction WITH the SVD reranking!"
   ]
  },
  {
   "cell_type": "code",
   "execution_count": 13,
   "id": "80c63a98",
   "metadata": {
    "execution": {
     "iopub.execute_input": "2022-03-25T04:07:53.486841Z",
     "iopub.status.busy": "2022-03-25T04:07:53.474398Z",
     "iopub.status.idle": "2022-03-25T04:09:56.435305Z",
     "shell.execute_reply": "2022-03-25T04:09:56.434445Z",
     "shell.execute_reply.started": "2022-03-25T01:31:54.864232Z"
    },
    "papermill": {
     "duration": 123.057446,
     "end_time": "2022-03-25T04:09:56.435619",
     "exception": false,
     "start_time": "2022-03-25T04:07:53.378173",
     "status": "completed"
    },
    "tags": []
   },
   "outputs": [
    {
     "name": "stderr",
     "output_type": "stream",
     "text": [
      "100%|██████████| 68984/68984 [02:02<00:00, 564.92it/s]\n"
     ]
    },
    {
     "name": "stdout",
     "output_type": "stream",
     "text": [
      "mAP Score on Validation set: 0.02539883499870202\n"
     ]
    }
   ],
   "source": [
    "from collections import Counter\n",
    "outputs = []\n",
    "cnt = 0\n",
    "\n",
    "popular_items = list(popular_items)\n",
    "userindexes = {svd.users[i]:i for i in range(len(svd.users))}\n",
    "\n",
    "for user in tqdm(val_users):\n",
    "    user_output = []\n",
    "    if user in positive_items_per_user1.keys():\n",
    "        most_common_items_of_user = {k:v for k, v in Counter(positive_items_per_user1[user]).most_common()}\n",
    "        user_index = userindexes[user]\n",
    "        new_order = {}\n",
    "        for k in list(most_common_items_of_user.keys())[:20]:\n",
    "            try:\n",
    "                itemindex = svd.items.index(k)\n",
    "                pred_value = np.dot(svd.userfeatures[user_index], svd.itemfeatures[itemindex].T) + svd.item_bias[0, itemindex]\n",
    "            except:\n",
    "                pred_value = most_common_items_of_user[k]\n",
    "            new_order[k] = pred_value\n",
    "        user_output += [k for k, v in sorted(new_order.items(), key=lambda item: item[1])][:12]\n",
    "        \n",
    "    if user in positive_items_per_user2.keys():\n",
    "        most_common_items_of_user = {k:v for k, v in Counter(positive_items_per_user2[user]).most_common()}\n",
    "        user_index = userindexes[user]\n",
    "        new_order = {}\n",
    "        for k in list(most_common_items_of_user.keys())[:20]:\n",
    "            try:\n",
    "                itemindex = svd.items.index(k)\n",
    "                pred_value = np.dot(svd.userfeatures[user_index], svd.itemfeatures[itemindex].T) + svd.item_bias[0, itemindex]\n",
    "            except:\n",
    "                pred_value = most_common_items_of_user[k]\n",
    "            new_order[k] = pred_value\n",
    "        user_output += [k for k, v in sorted(new_order.items(), key=lambda item: item[1])][:12]\n",
    "        \n",
    "    if user in positive_items_per_user3.keys():\n",
    "        most_common_items_of_user = {k:v for k, v in Counter(positive_items_per_user3[user]).most_common()}\n",
    "        user_index = userindexes[user]\n",
    "        new_order = {}\n",
    "        for k in list(most_common_items_of_user.keys())[:20]:\n",
    "            try:\n",
    "                itemindex = svd.items.index(k)\n",
    "                pred_value = np.dot(svd.userfeatures[user_index], svd.itemfeatures[itemindex].T) + svd.item_bias[0, itemindex]\n",
    "            except:\n",
    "                pred_value = most_common_items_of_user[k]\n",
    "            new_order[k] = pred_value\n",
    "        user_output += [k for k, v in sorted(new_order.items(), key=lambda item: item[1])][:12]\n",
    "        \n",
    "    if user in positive_items_per_user4.keys():\n",
    "        most_common_items_of_user = {k:v for k, v in Counter(positive_items_per_user4[user]).most_common()}\n",
    "        user_index = userindexes[user]\n",
    "        new_order = {}\n",
    "        for k in list(most_common_items_of_user.keys())[:20]:\n",
    "            try:\n",
    "                itemindex = svd.items.index(k)\n",
    "                pred_value = np.dot(svd.userfeatures[user_index], svd.itemfeatures[itemindex].T) + svd.item_bias[0, itemindex]\n",
    "            except:\n",
    "                pred_value = most_common_items_of_user[k]\n",
    "            new_order[k] = pred_value\n",
    "        user_output += [k for k, v in sorted(new_order.items(), key=lambda item: item[1])][:12]\n",
    "        \n",
    "    user_output += [pred_next[item] for item in user_output if item in pred_next and pred_next[item] not in user_output]      \n",
    "    \n",
    "    user_output += list(popular_items[:12 - len(user_output)])\n",
    "    outputs.append(user_output)\n",
    "    \n",
    "print(\"mAP Score on Validation set:\", mapk(val_items, outputs))"
   ]
  },
  {
   "cell_type": "markdown",
   "id": "2a5b399b",
   "metadata": {
    "papermill": {
     "duration": 0.473703,
     "end_time": "2022-03-25T04:09:57.377990",
     "exception": false,
     "start_time": "2022-03-25T04:09:56.904287",
     "status": "completed"
    },
    "tags": []
   },
   "source": [
    "Decent jump of 0.001 I would say with 4 weeks of training data!"
   ]
  },
  {
   "cell_type": "markdown",
   "id": "2aaf2461",
   "metadata": {
    "papermill": {
     "duration": 0.476431,
     "end_time": "2022-03-25T04:09:58.327313",
     "exception": false,
     "start_time": "2022-03-25T04:09:57.850882",
     "status": "completed"
    },
    "tags": []
   },
   "source": [
    "# Submission\n",
    "\n",
    "We will do all the same things all over again just with different time periods."
   ]
  },
  {
   "cell_type": "code",
   "execution_count": 14,
   "id": "f336063f",
   "metadata": {
    "execution": {
     "iopub.execute_input": "2022-03-25T04:09:59.288709Z",
     "iopub.status.busy": "2022-03-25T04:09:59.282779Z",
     "iopub.status.idle": "2022-03-25T04:10:28.626097Z",
     "shell.execute_reply": "2022-03-25T04:10:28.626651Z",
     "shell.execute_reply.started": "2022-03-25T01:11:37.942319Z"
    },
    "papermill": {
     "duration": 29.828274,
     "end_time": "2022-03-25T04:10:28.626841",
     "exception": false,
     "start_time": "2022-03-25T04:09:58.798567",
     "status": "completed"
    },
    "tags": []
   },
   "outputs": [],
   "source": [
    "train1 = data.loc[(data[\"t_dat\"] >= datetime.datetime(2020,9,16)) & (data['t_dat'] < datetime.datetime(2020,9,23))]\n",
    "train2 = data.loc[(data[\"t_dat\"] >= datetime.datetime(2020,9,8)) & (data['t_dat'] < datetime.datetime(2020,9,16))]\n",
    "train3 = data.loc[(data[\"t_dat\"] >= datetime.datetime(2020,8,31)) & (data['t_dat'] < datetime.datetime(2020,9,8))]\n",
    "train4 = data.loc[(data[\"t_dat\"] >= datetime.datetime(2020,8,23)) & (data['t_dat'] < datetime.datetime(2020,8,31))]\n",
    "\n",
    "positive_items_per_user1 = train1.groupby(['customer_id'])['article_id'].apply(list)\n",
    "positive_items_per_user2 = train2.groupby(['customer_id'])['article_id'].apply(list)\n",
    "positive_items_per_user3 = train3.groupby(['customer_id'])['article_id'].apply(list)\n",
    "positive_items_per_user4 = train4.groupby(['customer_id'])['article_id'].apply(list)\n",
    "\n",
    "train = pd.concat([train1, train2], axis=0)\n",
    "train['pop_factor'] = train['t_dat'].apply(lambda x: 1/(datetime.datetime(2020,9,23) - x).days)\n",
    "popular_items_group = train.groupby(['article_id'])['pop_factor'].sum()\n",
    "\n",
    "_, popular_items = zip(*sorted(zip(popular_items_group, popular_items_group.keys()))[::-1])\n",
    "\n",
    "user_group = pd.concat([train1, train2, train3, train4], axis=0).groupby(['customer_id'])['article_id'].apply(list)"
   ]
  },
  {
   "cell_type": "code",
   "execution_count": 15,
   "id": "de0aae22",
   "metadata": {
    "execution": {
     "iopub.execute_input": "2022-03-25T04:10:29.590484Z",
     "iopub.status.busy": "2022-03-25T04:10:29.589549Z",
     "iopub.status.idle": "2022-03-25T04:11:26.488347Z",
     "shell.execute_reply": "2022-03-25T04:11:26.488939Z",
     "shell.execute_reply.started": "2022-03-25T01:12:06.976540Z"
    },
    "papermill": {
     "duration": 57.387844,
     "end_time": "2022-03-25T04:11:26.489136",
     "exception": false,
     "start_time": "2022-03-25T04:10:29.101292",
     "status": "completed"
    },
    "tags": []
   },
   "outputs": [
    {
     "data": {
      "text/plain": [
       "count    1.020512e+06\n",
       "mean     7.597183e-01\n",
       "std      1.431037e+00\n",
       "min      6.119724e-03\n",
       "25%      4.992918e-02\n",
       "50%      1.387718e-01\n",
       "75%      5.250353e-01\n",
       "max      5.000000e+00\n",
       "Name: feedback, dtype: float64"
      ]
     },
     "execution_count": 15,
     "metadata": {},
     "output_type": "execute_result"
    }
   ],
   "source": [
    "# SVD\n",
    "train = pd.concat([train1, train2, train3, train4], axis=0)\n",
    "train['pop_factor'] = train['t_dat'].apply(lambda x: 1/(datetime.datetime(2020,9,23) - x).days**2)\n",
    "popular_items_group = train.groupby(['article_id'])['pop_factor'].sum()\n",
    "\n",
    "train['feedback'] = 1\n",
    "train = train.groupby(['customer_id', 'article_id']).sum().reset_index()\n",
    "\n",
    "train['feedback'] = train.apply(lambda row: row['feedback']/popular_items_group[row['article_id']], axis=1)\n",
    "\n",
    "train['feedback'] = train['feedback'].apply(lambda x: 5.0 if x>5.0 else x)\n",
    "train.drop(['price', 'sales_channel_id'], axis=1, inplace=True)\n",
    "train['feedback'].describe()"
   ]
  },
  {
   "cell_type": "code",
   "execution_count": 16,
   "id": "7c7a56de",
   "metadata": {
    "execution": {
     "iopub.execute_input": "2022-03-25T04:11:27.449691Z",
     "iopub.status.busy": "2022-03-25T04:11:27.448477Z",
     "iopub.status.idle": "2022-03-25T04:11:27.932080Z",
     "shell.execute_reply": "2022-03-25T04:11:27.931434Z",
     "shell.execute_reply.started": "2022-03-25T01:13:09.424077Z"
    },
    "papermill": {
     "duration": 0.966179,
     "end_time": "2022-03-25T04:11:27.932226",
     "exception": false,
     "start_time": "2022-03-25T04:11:26.966047",
     "status": "completed"
    },
    "tags": []
   },
   "outputs": [
    {
     "data": {
      "text/html": [
       "<div>\n",
       "<style scoped>\n",
       "    .dataframe tbody tr th:only-of-type {\n",
       "        vertical-align: middle;\n",
       "    }\n",
       "\n",
       "    .dataframe tbody tr th {\n",
       "        vertical-align: top;\n",
       "    }\n",
       "\n",
       "    .dataframe thead th {\n",
       "        text-align: right;\n",
       "    }\n",
       "</style>\n",
       "<table border=\"1\" class=\"dataframe\">\n",
       "  <thead>\n",
       "    <tr style=\"text-align: right;\">\n",
       "      <th></th>\n",
       "      <th>customer_id</th>\n",
       "      <th>article_id</th>\n",
       "      <th>pop_factor</th>\n",
       "      <th>feedback</th>\n",
       "    </tr>\n",
       "  </thead>\n",
       "  <tbody>\n",
       "    <tr>\n",
       "      <th>0</th>\n",
       "      <td>3139bc28ef360db86ca0b7355b6edc41e683f6b40020e3...</td>\n",
       "      <td>0909916001</td>\n",
       "      <td>0.005540</td>\n",
       "      <td>0.125026</td>\n",
       "    </tr>\n",
       "    <tr>\n",
       "      <th>1</th>\n",
       "      <td>25886f645a47c7bdec126fef98455af0d395b716c38829...</td>\n",
       "      <td>0842605001</td>\n",
       "      <td>0.008264</td>\n",
       "      <td>0.294350</td>\n",
       "    </tr>\n",
       "    <tr>\n",
       "      <th>2</th>\n",
       "      <td>ee0c1bd5787ce0c1e1f2fb21e5e6e8a44fd63979032360...</td>\n",
       "      <td>0898692003</td>\n",
       "      <td>0.027778</td>\n",
       "      <td>0.028547</td>\n",
       "    </tr>\n",
       "    <tr>\n",
       "      <th>3</th>\n",
       "      <td>191071b64d4ae8584cc0cb6ce49d7d0cdd1da3cdfd37ff...</td>\n",
       "      <td>0872454002</td>\n",
       "      <td>0.001372</td>\n",
       "      <td>3.556682</td>\n",
       "    </tr>\n",
       "    <tr>\n",
       "      <th>4</th>\n",
       "      <td>e03d01d11c580a401db4692d43817da7f4dbfdd3e945b3...</td>\n",
       "      <td>0751471042</td>\n",
       "      <td>0.005917</td>\n",
       "      <td>0.048887</td>\n",
       "    </tr>\n",
       "  </tbody>\n",
       "</table>\n",
       "</div>"
      ],
      "text/plain": [
       "                                         customer_id  article_id  pop_factor  \\\n",
       "0  3139bc28ef360db86ca0b7355b6edc41e683f6b40020e3...  0909916001    0.005540   \n",
       "1  25886f645a47c7bdec126fef98455af0d395b716c38829...  0842605001    0.008264   \n",
       "2  ee0c1bd5787ce0c1e1f2fb21e5e6e8a44fd63979032360...  0898692003    0.027778   \n",
       "3  191071b64d4ae8584cc0cb6ce49d7d0cdd1da3cdfd37ff...  0872454002    0.001372   \n",
       "4  e03d01d11c580a401db4692d43817da7f4dbfdd3e945b3...  0751471042    0.005917   \n",
       "\n",
       "   feedback  \n",
       "0  0.125026  \n",
       "1  0.294350  \n",
       "2  0.028547  \n",
       "3  3.556682  \n",
       "4  0.048887  "
      ]
     },
     "execution_count": 16,
     "metadata": {},
     "output_type": "execute_result"
    }
   ],
   "source": [
    "train = train.sample(frac=1).reset_index(drop=True)\n",
    "train.head()"
   ]
  },
  {
   "cell_type": "code",
   "execution_count": 17,
   "id": "0074bf4c",
   "metadata": {
    "execution": {
     "iopub.execute_input": "2022-03-25T04:11:28.887058Z",
     "iopub.status.busy": "2022-03-25T04:11:28.886367Z",
     "iopub.status.idle": "2022-03-25T04:12:37.798231Z",
     "shell.execute_reply": "2022-03-25T04:12:37.797492Z",
     "shell.execute_reply.started": "2022-03-25T01:13:09.731945Z"
    },
    "papermill": {
     "duration": 69.390896,
     "end_time": "2022-03-25T04:12:37.798395",
     "exception": false,
     "start_time": "2022-03-25T04:11:28.407499",
     "status": "completed"
    },
    "tags": []
   },
   "outputs": [
    {
     "name": "stdout",
     "output_type": "stream",
     "text": [
      "Epoch 0: Error: 0.703984055986469\n",
      "Epoch 1: Error: 0.5167095394743632\n",
      "Epoch 2: Error: 0.44905168217005637\n",
      "Epoch 3: Error: 0.40826668210792\n",
      "Epoch 4: Error: 0.37953167919373515\n",
      "Epoch 5: Error: 0.3576995449177035\n",
      "Epoch 6: Error: 0.3403381645132104\n",
      "Epoch 7: Error: 0.32599001996562155\n",
      "Epoch 8: Error: 0.31374299845326487\n",
      "Epoch 9: Error: 0.30303535785744207\n",
      "Epoch 10: Error: 0.29351368702273756\n",
      "Epoch 11: Error: 0.2849036813090378\n",
      "Epoch 12: Error: 0.2770257893359142\n",
      "Epoch 13: Error: 0.2697451393800591\n",
      "Epoch 14: Error: 0.2629655877825135\n",
      "Epoch 15: Error: 0.25660507939139793\n",
      "Epoch 16: Error: 0.25060389683701584\n",
      "Epoch 17: Error: 0.2449104950195829\n",
      "Epoch 18: Error: 0.23948759349048832\n",
      "Epoch 19: Error: 0.234303043457732\n",
      "Epoch 20: Error: 0.22933402337176936\n",
      "Epoch 21: Error: 0.22456471355573468\n",
      "Epoch 22: Error: 0.21997858027858944\n",
      "Epoch 23: Error: 0.21555953146443857\n",
      "Epoch 24: Error: 0.2112959171229523\n",
      "Epoch 25: Error: 0.2071814529184391\n",
      "Epoch 26: Error: 0.20320830691709307\n",
      "Epoch 27: Error: 0.19936941041688133\n",
      "Epoch 28: Error: 0.19566123504512875\n",
      "Epoch 29: Error: 0.19207832148829332\n",
      "Epoch 30: Error: 0.18861472953559213\n",
      "Epoch 31: Error: 0.18526388082264894\n",
      "Epoch 32: Error: 0.1820216210318443\n",
      "Epoch 33: Error: 0.17888589233047325\n",
      "Epoch 34: Error: 0.17585342474228036\n",
      "Epoch 35: Error: 0.17292093282510967\n",
      "Epoch 36: Error: 0.17008484938482774\n",
      "Epoch 37: Error: 0.16734281518169983\n",
      "Epoch 38: Error: 0.1646911246170053\n",
      "Epoch 39: Error: 0.16212610005350483\n",
      "Epoch 40: Error: 0.15964316123183295\n",
      "Epoch 41: Error: 0.1572404415427917\n",
      "Epoch 42: Error: 0.1549138859306394\n",
      "Epoch 43: Error: 0.15265947798849816\n",
      "Epoch 44: Error: 0.15047574416406836\n",
      "Epoch 45: Error: 0.14835989629519655\n",
      "Epoch 46: Error: 0.14630954912938166\n",
      "Epoch 47: Error: 0.1443210660415682\n",
      "Epoch 48: Error: 0.1423913630949554\n",
      "Epoch 49: Error: 0.140518590501893\n",
      "Epoch 50: Error: 0.1387000727918948\n",
      "Epoch 51: Error: 0.1369341363840534\n",
      "Epoch 52: Error: 0.13521902695320615\n",
      "Epoch 53: Error: 0.13355224466896776\n",
      "Epoch 54: Error: 0.13193099782494652\n",
      "Epoch 55: Error: 0.1303554939951507\n",
      "Epoch 56: Error: 0.12882429091254657\n",
      "Epoch 57: Error: 0.12733494700546785\n",
      "Epoch 58: Error: 0.12588593934579032\n",
      "Epoch 59: Error: 0.12447543651220477\n",
      "Epoch 60: Error: 0.12310170458335838\n",
      "Epoch 61: Error: 0.1217632317638326\n",
      "Epoch 62: Error: 0.12045902339414305\n",
      "Epoch 63: Error: 0.11918821295315046\n",
      "Epoch 64: Error: 0.11794947789674372\n",
      "Epoch 65: Error: 0.1167408754726045\n",
      "Epoch 66: Error: 0.11556151428483892\n",
      "Epoch 67: Error: 0.11441039382832785\n",
      "Epoch 68: Error: 0.11328711375001684\n",
      "Epoch 69: Error: 0.1121905837768509\n",
      "Epoch 70: Error: 0.11112015347629946\n",
      "Epoch 71: Error: 0.11007444794174909\n",
      "Epoch 72: Error: 0.10905283522846426\n",
      "Epoch 73: Error: 0.10805443632587036\n",
      "Epoch 74: Error: 0.107078508440706\n",
      "Epoch 75: Error: 0.10612440832109918\n",
      "Epoch 76: Error: 0.105191605633434\n",
      "Epoch 77: Error: 0.10427914646665963\n",
      "Epoch 78: Error: 0.10338650552800495\n",
      "Epoch 79: Error: 0.10251309858739198\n",
      "Epoch 80: Error: 0.10165802166351812\n",
      "Epoch 81: Error: 0.10082027122889987\n",
      "Epoch 82: Error: 0.09999958105233495\n",
      "Epoch 83: Error: 0.09919556377143164\n",
      "Epoch 84: Error: 0.09840776411582616\n",
      "Epoch 85: Error: 0.09763540540335786\n",
      "Epoch 86: Error: 0.09687807284487984\n",
      "Epoch 87: Error: 0.09613533705157022\n",
      "Epoch 88: Error: 0.09540650054749499\n",
      "Epoch 89: Error: 0.09469121494646218\n",
      "Epoch 90: Error: 0.09398912995133228\n",
      "Epoch 91: Error: 0.09329966388915262\n",
      "Epoch 92: Error: 0.09262264225144161\n",
      "Epoch 93: Error: 0.09195734139581326\n",
      "Epoch 94: Error: 0.09130350613335843\n",
      "Epoch 95: Error: 0.09066102271424234\n",
      "Epoch 96: Error: 0.09002952201975316\n",
      "Epoch 97: Error: 0.08940866622313921\n",
      "Epoch 98: Error: 0.08879823582221597\n",
      "Epoch 99: Error: 0.0881978311910704\n",
      "Epoch 100: Error: 0.08760704722820803\n",
      "Epoch 101: Error: 0.08702583691672842\n",
      "Epoch 102: Error: 0.08645386358203247\n",
      "Epoch 103: Error: 0.08589077673400128\n",
      "Epoch 104: Error: 0.08533652401418076\n",
      "Epoch 105: Error: 0.08479071309897898\n",
      "Epoch 106: Error: 0.08425313420640591\n",
      "Epoch 107: Error: 0.0837234627194876\n",
      "Epoch 108: Error: 0.08320157789283991\n",
      "Epoch 109: Error: 0.08268735214301484\n",
      "Epoch 110: Error: 0.08218066245740394\n",
      "Epoch 111: Error: 0.08168111913308625\n",
      "Epoch 112: Error: 0.08118863935237557\n",
      "Epoch 113: Error: 0.08070310264317093\n",
      "Epoch 114: Error: 0.08022437919198551\n",
      "Epoch 115: Error: 0.07975220081227712\n",
      "Epoch 116: Error: 0.07928636075491598\n",
      "Epoch 117: Error: 0.07882671187360142\n",
      "Epoch 118: Error: 0.07837312894123345\n",
      "Epoch 119: Error: 0.07792532730143528\n",
      "Epoch 120: Error: 0.07748330570145429\n",
      "Epoch 121: Error: 0.07704698606544663\n",
      "Epoch 122: Error: 0.07661631677983763\n",
      "Epoch 123: Error: 0.0761913262538642\n",
      "Epoch 124: Error: 0.07577170776200627\n",
      "Epoch 125: Error: 0.07535725579628053\n",
      "Epoch 126: Error: 0.07494784201689625\n",
      "Epoch 127: Error: 0.07454352409300964\n",
      "Epoch 128: Error: 0.07414415285117716\n",
      "Epoch 129: Error: 0.07374956193367539\n",
      "Epoch 130: Error: 0.07335957722428588\n",
      "Epoch 131: Error: 0.07297427758094067\n",
      "Epoch 132: Error: 0.07259350587025223\n",
      "Epoch 133: Error: 0.0722172394850375\n",
      "Epoch 134: Error: 0.07184523649900174\n",
      "Epoch 135: Error: 0.07147734932404019\n",
      "Epoch 136: Error: 0.07111357516249796\n",
      "Epoch 137: Error: 0.07075400953915141\n",
      "Epoch 138: Error: 0.07039843070854775\n",
      "Epoch 139: Error: 0.0700467917774732\n",
      "Epoch 140: Error: 0.06969911261473263\n",
      "Epoch 141: Error: 0.06935526514694866\n",
      "Epoch 142: Error: 0.06901508302978765\n",
      "Epoch 143: Error: 0.06867855967059594\n",
      "Epoch 144: Error: 0.06834572594001874\n",
      "Epoch 145: Error: 0.06801648386459323\n",
      "Epoch 146: Error: 0.06769081293686804\n",
      "Epoch 147: Error: 0.06736860640849546\n",
      "Epoch 148: Error: 0.06704985874766065\n",
      "Epoch 149: Error: 0.06673449435725688\n",
      "Epoch 150: Error: 0.06642242578058069\n",
      "Epoch 151: Error: 0.06611357337408186\n",
      "Epoch 152: Error: 0.06580793533083135\n",
      "Epoch 153: Error: 0.06550548098279357\n",
      "Epoch 154: Error: 0.06520609753200243\n",
      "Epoch 155: Error: 0.06490977812551596\n",
      "Epoch 156: Error: 0.06461644910972202\n",
      "Epoch 157: Error: 0.06432604373253502\n",
      "Epoch 158: Error: 0.06403862558406168\n",
      "Epoch 159: Error: 0.06375408708870425\n",
      "Epoch 160: Error: 0.06347241721052145\n",
      "Epoch 161: Error: 0.06319358109442383\n",
      "Epoch 162: Error: 0.0629175751509671\n",
      "Epoch 163: Error: 0.06264436619223697\n",
      "Epoch 164: Error: 0.06237386871934082\n",
      "Epoch 165: Error: 0.06210602961117726\n",
      "Epoch 166: Error: 0.061840824171653354\n",
      "Epoch 167: Error: 0.06157815826564438\n",
      "Epoch 168: Error: 0.061318056467666464\n",
      "Epoch 169: Error: 0.06106042944190386\n",
      "Epoch 170: Error: 0.06080523093559742\n",
      "Epoch 171: Error: 0.06055244202886627\n",
      "Epoch 172: Error: 0.060302056905474924\n",
      "Epoch 173: Error: 0.06005404041553576\n",
      "Epoch 174: Error: 0.05980845891200802\n",
      "Epoch 175: Error: 0.05956525727242655\n",
      "Epoch 176: Error: 0.059324339404226156\n",
      "Epoch 177: Error: 0.05908567047698337\n",
      "Epoch 178: Error: 0.0588492160534388\n",
      "Epoch 179: Error: 0.05861496785942008\n",
      "Epoch 180: Error: 0.05838291254157754\n",
      "Epoch 181: Error: 0.05815295420977483\n",
      "Epoch 182: Error: 0.05792507795934367\n",
      "Epoch 183: Error: 0.057699366163555865\n",
      "Epoch 184: Error: 0.05747570898254002\n",
      "Epoch 185: Error: 0.05725407608008683\n",
      "Epoch 186: Error: 0.05703447261436765\n",
      "Epoch 187: Error: 0.0568168873068127\n",
      "Epoch 188: Error: 0.05660126237259469\n",
      "Epoch 189: Error: 0.05638752520867221\n",
      "Epoch 190: Error: 0.056175657504569175\n",
      "Epoch 191: Error: 0.05596570573720398\n",
      "Epoch 192: Error: 0.05575759683329938\n",
      "Epoch 193: Error: 0.05555138195157023\n",
      "Epoch 194: Error: 0.055347007028731215\n",
      "Epoch 195: Error: 0.05514444750182938\n",
      "Epoch 196: Error: 0.054943659888598964\n",
      "Epoch 197: Error: 0.054744622878197584\n",
      "Epoch 198: Error: 0.054547316251787575\n",
      "Epoch 199: Error: 0.0543517209430077\n"
     ]
    }
   ],
   "source": [
    "from reco.recommender import FunkSVD\n",
    "from reco.metrics import rmse\n",
    "\n",
    "f = FunkSVD(k=8, learning_rate=0.005, regularizer = .01, iterations = 200, method = 'stochastic', bias=True)\n",
    "f.fit(X=train, formatizer={'user':'customer_id', 'item':'article_id', 'value':'feedback'},verbose=True)"
   ]
  },
  {
   "cell_type": "code",
   "execution_count": 18,
   "id": "d9aa0403",
   "metadata": {
    "execution": {
     "iopub.execute_input": "2022-03-25T04:12:38.802622Z",
     "iopub.status.busy": "2022-03-25T04:12:38.801820Z",
     "iopub.status.idle": "2022-03-25T04:12:44.143388Z",
     "shell.execute_reply": "2022-03-25T04:12:44.142825Z",
     "shell.execute_reply.started": "2022-03-25T01:14:16.090116Z"
    },
    "papermill": {
     "duration": 5.851214,
     "end_time": "2022-03-25T04:12:44.143557",
     "exception": false,
     "start_time": "2022-03-25T04:12:38.292343",
     "status": "completed"
    },
    "tags": []
   },
   "outputs": [
    {
     "data": {
      "text/html": [
       "<div>\n",
       "<style scoped>\n",
       "    .dataframe tbody tr th:only-of-type {\n",
       "        vertical-align: middle;\n",
       "    }\n",
       "\n",
       "    .dataframe tbody tr th {\n",
       "        vertical-align: top;\n",
       "    }\n",
       "\n",
       "    .dataframe thead th {\n",
       "        text-align: right;\n",
       "    }\n",
       "</style>\n",
       "<table border=\"1\" class=\"dataframe\">\n",
       "  <thead>\n",
       "    <tr style=\"text-align: right;\">\n",
       "      <th></th>\n",
       "      <th>customer_id</th>\n",
       "      <th>prediction</th>\n",
       "    </tr>\n",
       "  </thead>\n",
       "  <tbody>\n",
       "    <tr>\n",
       "      <th>0</th>\n",
       "      <td>00000dbacae5abe5e23885899a1fa44253a17956c6d1c3...</td>\n",
       "      <td>0706016001 0706016002 0372860001 0610776002 07...</td>\n",
       "    </tr>\n",
       "    <tr>\n",
       "      <th>1</th>\n",
       "      <td>0000423b00ade91418cceaf3b26c6af3dd342b51fd051e...</td>\n",
       "      <td>0706016001 0706016002 0372860001 0610776002 07...</td>\n",
       "    </tr>\n",
       "    <tr>\n",
       "      <th>2</th>\n",
       "      <td>000058a12d5b43e67d225668fa1f8d618c13dc232df0ca...</td>\n",
       "      <td>0706016001 0706016002 0372860001 0610776002 07...</td>\n",
       "    </tr>\n",
       "    <tr>\n",
       "      <th>3</th>\n",
       "      <td>00005ca1c9ed5f5146b52ac8639a40ca9d57aeff4d1bd2...</td>\n",
       "      <td>0706016001 0706016002 0372860001 0610776002 07...</td>\n",
       "    </tr>\n",
       "    <tr>\n",
       "      <th>4</th>\n",
       "      <td>00006413d8573cd20ed7128e53b7b13819fe5cfc2d801f...</td>\n",
       "      <td>0706016001 0706016002 0372860001 0610776002 07...</td>\n",
       "    </tr>\n",
       "  </tbody>\n",
       "</table>\n",
       "</div>"
      ],
      "text/plain": [
       "                                         customer_id  \\\n",
       "0  00000dbacae5abe5e23885899a1fa44253a17956c6d1c3...   \n",
       "1  0000423b00ade91418cceaf3b26c6af3dd342b51fd051e...   \n",
       "2  000058a12d5b43e67d225668fa1f8d618c13dc232df0ca...   \n",
       "3  00005ca1c9ed5f5146b52ac8639a40ca9d57aeff4d1bd2...   \n",
       "4  00006413d8573cd20ed7128e53b7b13819fe5cfc2d801f...   \n",
       "\n",
       "                                          prediction  \n",
       "0  0706016001 0706016002 0372860001 0610776002 07...  \n",
       "1  0706016001 0706016002 0372860001 0610776002 07...  \n",
       "2  0706016001 0706016002 0372860001 0610776002 07...  \n",
       "3  0706016001 0706016002 0372860001 0610776002 07...  \n",
       "4  0706016001 0706016002 0372860001 0610776002 07...  "
      ]
     },
     "execution_count": 18,
     "metadata": {},
     "output_type": "execute_result"
    }
   ],
   "source": [
    "submission = pd.read_csv(\"../input/h-and-m-personalized-fashion-recommendations/sample_submission.csv\")\n",
    "submission.head()"
   ]
  },
  {
   "cell_type": "code",
   "execution_count": 19,
   "id": "867a0d8c",
   "metadata": {
    "execution": {
     "iopub.execute_input": "2022-03-25T04:12:45.141949Z",
     "iopub.status.busy": "2022-03-25T04:12:45.141167Z",
     "iopub.status.idle": "2022-03-25T04:25:27.109112Z",
     "shell.execute_reply": "2022-03-25T04:25:27.109799Z"
    },
    "papermill": {
     "duration": 762.471811,
     "end_time": "2022-03-25T04:25:27.110019",
     "exception": false,
     "start_time": "2022-03-25T04:12:44.638208",
     "status": "completed"
    },
    "tags": []
   },
   "outputs": [
    {
     "name": "stderr",
     "output_type": "stream",
     "text": [
      "100%|██████████| 1371980/1371980 [11:27<00:00, 1996.98it/s]\n"
     ]
    }
   ],
   "source": [
    "outputs = []\n",
    "cnt = 0\n",
    "\n",
    "popular_items = list(popular_items)\n",
    "userindexes = {f.users[i]:i for i in range(len(f.users))}\n",
    "\n",
    "for user in tqdm(submission['customer_id']):\n",
    "    user_output = []\n",
    "    if user in positive_items_per_user1.keys():\n",
    "        most_common_items_of_user = {k:v for k, v in Counter(positive_items_per_user1[user]).most_common()}\n",
    "        \n",
    "        user_index = userindexes[user]\n",
    "        new_order = {}\n",
    "        for k in list(most_common_items_of_user.keys())[:20]:\n",
    "            try:\n",
    "                itemindex = f.items.index(k)\n",
    "                pred_value = np.dot(f.userfeatures[user_index], f.itemfeatures[itemindex].T) + f.item_bias[0, itemindex]\n",
    "            except:\n",
    "                pred_value = most_common_items_of_user[k]\n",
    "            new_order[k] = pred_value\n",
    "        user_output += [k for k, v in sorted(new_order.items(), key=lambda item: item[1])][:12]\n",
    "        \n",
    "    if user in positive_items_per_user2.keys():\n",
    "        most_common_items_of_user = {k:v for k, v in Counter(positive_items_per_user2[user]).most_common()}\n",
    "        \n",
    "        user_index = userindexes[user]\n",
    "        new_order = {}\n",
    "        for k in list(most_common_items_of_user.keys())[:20]:\n",
    "            try:\n",
    "                itemindex = f.items.index(k)\n",
    "                pred_value = np.dot(f.userfeatures[user_index], f.itemfeatures[itemindex].T) + f.item_bias[0, itemindex]\n",
    "            except:\n",
    "                pred_value = most_common_items_of_user[k]\n",
    "            new_order[k] = pred_value\n",
    "        user_output += [k for k, v in sorted(new_order.items(), key=lambda item: item[1])][:12]\n",
    "        \n",
    "    if user in positive_items_per_user3.keys():\n",
    "        most_common_items_of_user = {k:v for k, v in Counter(positive_items_per_user3[user]).most_common()}\n",
    "        \n",
    "        user_index = userindexes[user]\n",
    "        new_order = {}\n",
    "        for k in list(most_common_items_of_user.keys())[:20]:\n",
    "            try:\n",
    "                itemindex = f.items.index(k)\n",
    "                pred_value = np.dot(f.userfeatures[user_index], f.itemfeatures[itemindex].T) + f.item_bias[0, itemindex]\n",
    "            except:\n",
    "                pred_value = most_common_items_of_user[k]\n",
    "            new_order[k] = pred_value\n",
    "        user_output += [k for k, v in sorted(new_order.items(), key=lambda item: item[1])][:12]\n",
    "        \n",
    "    if user in positive_items_per_user4.keys():\n",
    "        most_common_items_of_user = {k:v for k, v in Counter(positive_items_per_user4[user]).most_common()}\n",
    "        \n",
    "        user_index = userindexes[user]\n",
    "        new_order = {}\n",
    "        for k in list(most_common_items_of_user.keys())[:20]:\n",
    "            try:\n",
    "                itemindex = f.items.index(k)\n",
    "                pred_value = np.dot(f.userfeatures[user_index], f.itemfeatures[itemindex].T) + f.item_bias[0, itemindex]\n",
    "            except:\n",
    "                pred_value = most_common_items_of_user[k]\n",
    "            new_order[k] = pred_value\n",
    "        user_output += [k for k, v in sorted(new_order.items(), key=lambda item: item[1])][:12]\n",
    "        \n",
    "    user_output += [pred_next[item] for item in user_output if item in pred_next and pred_next[item] not in user_output]      \n",
    "    \n",
    "    user_output += list(popular_items[:12 - len(user_output)])\n",
    "    outputs.append(user_output)\n",
    "    \n",
    "str_outputs = []\n",
    "for output in outputs:\n",
    "    str_outputs.append(\" \".join([str(x) for x in output]))"
   ]
  },
  {
   "cell_type": "code",
   "execution_count": 20,
   "id": "cef21266",
   "metadata": {
    "execution": {
     "iopub.execute_input": "2022-03-25T04:25:32.878343Z",
     "iopub.status.busy": "2022-03-25T04:25:32.877612Z",
     "iopub.status.idle": "2022-03-25T04:27:38.501138Z",
     "shell.execute_reply": "2022-03-25T04:27:38.501674Z"
    },
    "papermill": {
     "duration": 128.626588,
     "end_time": "2022-03-25T04:27:38.501888",
     "exception": false,
     "start_time": "2022-03-25T04:25:29.875300",
     "status": "completed"
    },
    "tags": []
   },
   "outputs": [],
   "source": [
    "submission['prediction'] = str_outputs\n",
    "submission.to_csv(\"submissions.csv\", index=False)"
   ]
  },
  {
   "cell_type": "code",
   "execution_count": 21,
   "id": "3663540e",
   "metadata": {
    "execution": {
     "iopub.execute_input": "2022-03-25T04:27:44.178083Z",
     "iopub.status.busy": "2022-03-25T04:27:44.177350Z",
     "iopub.status.idle": "2022-03-25T04:27:44.186651Z",
     "shell.execute_reply": "2022-03-25T04:27:44.187283Z"
    },
    "papermill": {
     "duration": 2.858149,
     "end_time": "2022-03-25T04:27:44.187475",
     "exception": false,
     "start_time": "2022-03-25T04:27:41.329326",
     "status": "completed"
    },
    "tags": []
   },
   "outputs": [
    {
     "data": {
      "text/html": [
       "<div>\n",
       "<style scoped>\n",
       "    .dataframe tbody tr th:only-of-type {\n",
       "        vertical-align: middle;\n",
       "    }\n",
       "\n",
       "    .dataframe tbody tr th {\n",
       "        vertical-align: top;\n",
       "    }\n",
       "\n",
       "    .dataframe thead th {\n",
       "        text-align: right;\n",
       "    }\n",
       "</style>\n",
       "<table border=\"1\" class=\"dataframe\">\n",
       "  <thead>\n",
       "    <tr style=\"text-align: right;\">\n",
       "      <th></th>\n",
       "      <th>customer_id</th>\n",
       "      <th>prediction</th>\n",
       "    </tr>\n",
       "  </thead>\n",
       "  <tbody>\n",
       "    <tr>\n",
       "      <th>0</th>\n",
       "      <td>00000dbacae5abe5e23885899a1fa44253a17956c6d1c3...</td>\n",
       "      <td>0568601043 0924243001 0924243002 0918522001 07...</td>\n",
       "    </tr>\n",
       "    <tr>\n",
       "      <th>1</th>\n",
       "      <td>0000423b00ade91418cceaf3b26c6af3dd342b51fd051e...</td>\n",
       "      <td>0924243001 0924243002 0918522001 0751471001 04...</td>\n",
       "    </tr>\n",
       "    <tr>\n",
       "      <th>2</th>\n",
       "      <td>000058a12d5b43e67d225668fa1f8d618c13dc232df0ca...</td>\n",
       "      <td>0794321007 0924243001 0924243002 0918522001 07...</td>\n",
       "    </tr>\n",
       "    <tr>\n",
       "      <th>3</th>\n",
       "      <td>00005ca1c9ed5f5146b52ac8639a40ca9d57aeff4d1bd2...</td>\n",
       "      <td>0924243001 0924243002 0918522001 0751471001 04...</td>\n",
       "    </tr>\n",
       "    <tr>\n",
       "      <th>4</th>\n",
       "      <td>00006413d8573cd20ed7128e53b7b13819fe5cfc2d801f...</td>\n",
       "      <td>0924243001 0924243002 0918522001 0751471001 04...</td>\n",
       "    </tr>\n",
       "  </tbody>\n",
       "</table>\n",
       "</div>"
      ],
      "text/plain": [
       "                                         customer_id  \\\n",
       "0  00000dbacae5abe5e23885899a1fa44253a17956c6d1c3...   \n",
       "1  0000423b00ade91418cceaf3b26c6af3dd342b51fd051e...   \n",
       "2  000058a12d5b43e67d225668fa1f8d618c13dc232df0ca...   \n",
       "3  00005ca1c9ed5f5146b52ac8639a40ca9d57aeff4d1bd2...   \n",
       "4  00006413d8573cd20ed7128e53b7b13819fe5cfc2d801f...   \n",
       "\n",
       "                                          prediction  \n",
       "0  0568601043 0924243001 0924243002 0918522001 07...  \n",
       "1  0924243001 0924243002 0918522001 0751471001 04...  \n",
       "2  0794321007 0924243001 0924243002 0918522001 07...  \n",
       "3  0924243001 0924243002 0918522001 0751471001 04...  \n",
       "4  0924243001 0924243002 0918522001 0751471001 04...  "
      ]
     },
     "execution_count": 21,
     "metadata": {},
     "output_type": "execute_result"
    }
   ],
   "source": [
    "submission.head()"
   ]
  },
  {
   "cell_type": "code",
   "execution_count": null,
   "id": "c93fe439",
   "metadata": {
    "papermill": {
     "duration": 2.807239,
     "end_time": "2022-03-25T04:27:55.345880",
     "exception": false,
     "start_time": "2022-03-25T04:27:52.538641",
     "status": "completed"
    },
    "tags": []
   },
   "outputs": [],
   "source": []
  }
 ],
 "metadata": {
  "kernelspec": {
   "display_name": "Python 3",
   "language": "python",
   "name": "python3"
  },
  "language_info": {
   "codemirror_mode": {
    "name": "ipython",
    "version": 3
   },
   "file_extension": ".py",
   "mimetype": "text/x-python",
   "name": "python",
   "nbconvert_exporter": "python",
   "pygments_lexer": "ipython3",
   "version": "3.7.12"
  },
  "papermill": {
   "default_parameters": {},
   "duration": 1469.934464,
   "end_time": "2022-03-25T04:28:01.118791",
   "environment_variables": {},
   "exception": null,
   "input_path": "__notebook__.ipynb",
   "output_path": "__notebook__.ipynb",
   "parameters": {},
   "start_time": "2022-03-25T04:03:31.184327",
   "version": "2.3.3"
  }
 },
 "nbformat": 4,
 "nbformat_minor": 5
}
